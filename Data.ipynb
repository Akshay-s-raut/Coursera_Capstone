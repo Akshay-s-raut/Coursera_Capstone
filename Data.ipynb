{
 "cells": [
  {
   "cell_type": "markdown",
   "metadata": {},
   "source": [
    "# Data"
   ]
  },
  {
   "cell_type": "markdown",
   "metadata": {},
   "source": [
    "The data consists of information about varies neighborhoods in New York city.\n",
    "information such as name, location etc."
   ]
  },
  {
   "cell_type": "markdown",
   "metadata": {},
   "source": [
    "## use of the data"
   ]
  },
  {
   "cell_type": "markdown",
   "metadata": {},
   "source": [
    "the location of a neighborhood is used to find nearby restaurants and their types using the FourSquare API.\n",
    "this data is then cleaned, processed and visualized to calculate the variety of choices available at a walking distance from the neighborhood."
   ]
  },
  {
   "cell_type": "markdown",
   "metadata": {},
   "source": [
    "## Columns \n",
    "\n",
    "area  \n",
    "neighborhood  \n",
    "latitude  \n",
    "longitude  "
   ]
  },
  {
   "cell_type": "markdown",
   "metadata": {},
   "source": [
    "## size\n",
    "\n",
    "The data consists of **48895 entries**.  \n",
    "_i have used only 200 random entries as 48895 is too much to process and visualize._"
   ]
  },
  {
   "cell_type": "markdown",
   "metadata": {},
   "source": [
    "### link to the file\n",
    "https://github.com/Akshay-s-raut/Coursera_Capstone/blob/master/new_york2.csv"
   ]
  },
  {
   "cell_type": "code",
   "execution_count": null,
   "metadata": {},
   "outputs": [],
   "source": []
  }
 ],
 "metadata": {
  "kernelspec": {
   "display_name": "Python 3",
   "language": "python",
   "name": "python3"
  },
  "language_info": {
   "codemirror_mode": {
    "name": "ipython",
    "version": 3
   },
   "file_extension": ".py",
   "mimetype": "text/x-python",
   "name": "python",
   "nbconvert_exporter": "python",
   "pygments_lexer": "ipython3",
   "version": "3.7.4"
  }
 },
 "nbformat": 4,
 "nbformat_minor": 2
}
